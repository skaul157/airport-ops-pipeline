{
 "cells": [
  {
   "cell_type": "markdown",
   "id": "9b155b06",
   "metadata": {},
   "source": [
    "\n",
    "# Flight Data Exploration\n",
    "\n",
    "This notebook provides a quick exploration of the synthetic flight data used in the **Real‑Time Airport Operations Data Pipeline** project.  It uses pandas to load the CSV file and compute a few summary statistics.\n"
   ]
  },
  {
   "cell_type": "code",
   "execution_count": null,
   "id": "098cdde2",
   "metadata": {},
   "outputs": [],
   "source": [
    "\n",
    "import pandas as pd\n",
    "\n",
    "# Load the sample flight data\n",
    "flights = pd.read_csv('../data/raw/flights.csv')\n",
    "\n",
    "# Display the first five records\n",
    "flights.head()\n"
   ]
  },
  {
   "cell_type": "code",
   "execution_count": null,
   "id": "5356cf30",
   "metadata": {},
   "outputs": [],
   "source": [
    "\n",
    "# Compute average departure delay by destination\n",
    "avg_delay_by_dest = flights.groupby('dest')['departure_delay_mins'].mean().reset_index()\n",
    "print(avg_delay_by_dest)\n"
   ]
  }
 ],
 "metadata": {},
 "nbformat": 4,
 "nbformat_minor": 5
}
